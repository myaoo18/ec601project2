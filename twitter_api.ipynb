{
 "cells": [
  {
   "cell_type": "markdown",
   "id": "e39d64c1",
   "metadata": {},
   "source": [
    "Step 1"
   ]
  },
  {
   "cell_type": "code",
   "execution_count": 6,
   "id": "3f1651e1",
   "metadata": {},
   "outputs": [],
   "source": [
    "import pandas as pd\n",
    "import requests\n",
    "import os"
   ]
  },
  {
   "cell_type": "markdown",
   "id": "506b0b62",
   "metadata": {},
   "source": [
    "Step 2"
   ]
  },
  {
   "cell_type": "code",
   "execution_count": 7,
   "id": "34cabbf5",
   "metadata": {},
   "outputs": [],
   "source": [
    "def connect_to_api():\n",
    "    bearer_token = os.environ.get('BEARER_TOKEN')\n",
    "    return {\"Authorization\": \"Bearer {}\".format(bearer_token)}"
   ]
  },
  {
   "cell_type": "code",
   "execution_count": 8,
   "id": "3b4fe7d5",
   "metadata": {},
   "outputs": [],
   "source": [
    "headers = connect_to_api();"
   ]
  },
  {
   "cell_type": "markdown",
   "id": "1f21ea54",
   "metadata": {},
   "source": [
    "Step 3"
   ]
  },
  {
   "cell_type": "code",
   "execution_count": 44,
   "id": "42d6d115",
   "metadata": {},
   "outputs": [],
   "source": [
    "def send_request(headers):\n",
    "    url = \"https://api.twitter.com/2/users/44196397/tweets\"\n",
    "    params = \"max_results=100&tweet.fields=lang,conversation_id,created_at\"\n",
    "    return requests.request(\"GET\", url, params=params, headers=headers).json()"
   ]
  },
  {
   "cell_type": "code",
   "execution_count": 45,
   "id": "c205db78",
   "metadata": {},
   "outputs": [
    {
     "name": "stdout",
     "output_type": "stream",
     "text": [
      "{'data': [{'conversation_id': '1442142105132953600', 'created_at': '2021-09-26T18:41:48.000Z', 'lang': 'en', 'text': '@wadeanderson Noted. You should be able to press mic button &amp; say “bug report …”', 'id': '1442197732882632707'}, {'conversation_id': '1442160267283075074', 'created_at': '2021-09-26T18:39:25.000Z', 'lang': 'und', 'text': '@coffeetabletsla @kimpaquette Ok', 'id': '1442197132103061508'}, {'conversation_id': '1442160267283075074', 'created_at': '2021-09-26T18:30:03.000Z', 'lang': 'en', 'text': '@kimpaquette A helpful case to consider, as the roads intersect at unusual angles', 'id': '1442194774501462017'}, {'conversation_id': '1442058753700810757', 'created_at': '2021-09-26T09:31:38.000Z', 'lang': 'en', 'text': '@pcgamer True', 'id': '1442059275157843971'}, {'conversation_id': '1441855697973620736', 'created_at': '2021-09-26T08:47:22.000Z', 'lang': 'en', 'text': '@bluemoondance74 @NASASpaceflight @SpaceX “Comes in discreet packaging”', 'id': '1442048135434539009'}, {'conversation_id': '1441926415201579011', 'created_at': '2021-09-26T08:38:51.000Z', 'lang': 'en', 'text': '@cnunezimages @SpaceX Well ya see we need to reach around the rocket to uhh …', 'id': '1442045993684324352'}, {'conversation_id': '1441527389419311104', 'created_at': '2021-09-26T00:06:35.000Z', 'lang': 'und', 'text': '@omespino 🤣', 'id': '1441917078894751746'}, {'conversation_id': '1441801120406454272', 'created_at': '2021-09-25T20:54:10.000Z', 'lang': 'en', 'text': '@SawyerMerritt @Tesla Absolutely! Tesla team rocks 💕', 'id': '1441868653578711040'}, {'conversation_id': '1441569570825801729', 'created_at': '2021-09-25T19:47:33.000Z', 'lang': 'en', 'text': '@Sushihunter2 @pitt_geoff @rajz06 @Tesla @Everman We use no cobalt at all in most of our cars &amp; tiny amounts in others (going to zero soon), whereas phones &amp; laptops primarily use cobalt', 'id': '1441851891000889350'}, {'conversation_id': '1441843442099769352', 'created_at': '2021-09-25T19:44:54.000Z', 'lang': 'en', 'text': '@RenataKonkoly @Erdayastronaut And booster used to be 70m, but this required an awkward half barrel width of steel, so now it’s 69m', 'id': '1441851222537879556'}, {'conversation_id': '1441793752075472900', 'created_at': '2021-09-25T19:24:28.000Z', 'lang': 'en', 'text': '@Nick_Stevens_Gr Haha so true of rocket engine development', 'id': '1441846082556792838'}, {'conversation_id': '1441810056358477828', 'created_at': '2021-09-25T18:52:21.000Z', 'lang': 'und', 'text': '@Teslarati @KlenderJoey https://t.co/lN4RH9u99a', 'id': '1441837997645729794'}, {'conversation_id': '1441673474011975681', 'created_at': '2021-09-25T08:13:30.000Z', 'lang': 'en', 'text': '@WholeMarsBlog Very much a beta calculation. It will evolve over time to more accurately predict crash probability.', 'id': '1441677227565850628'}, {'conversation_id': '1441560961593262081', 'created_at': '2021-09-25T00:38:07.000Z', 'lang': 'und', 'text': '@AaronS5_ Yes', 'id': '1441562625662464000'}, {'conversation_id': '1441560961593262081', 'created_at': '2021-09-25T00:31:30.000Z', 'lang': 'en', 'text': 'FSD Beta request button goes live tonight, but FSD 10.1 needs another 24 hours of testing, so out tomorrow night', 'id': '1441560961593262081'}, {'conversation_id': '1441439342472437762', 'created_at': '2021-09-24T18:54:43.000Z', 'lang': 'en', 'text': '@thesheetztweetz Chris was an early employee of SpaceX, and made a significant contribution, but was not a cofounder', 'id': '1441476204901638148'}, {'conversation_id': '1441243705705254917', 'created_at': '2021-09-24T03:30:51.000Z', 'lang': 'en', 'text': 'RT @SpaceX: More pics from @inspiration4x return → https://t.co/095WHX44BX https://t.co/Rxb49W4arV', 'id': '1441243705705254917'}, {'conversation_id': '1441202383732699141', 'created_at': '2021-09-24T00:46:39.000Z', 'lang': 'und', 'text': 'https://t.co/2jsF5hTWCP', 'id': '1441202383732699141'}, {'conversation_id': '1441201947785121794', 'created_at': '2021-09-24T00:44:55.000Z', 'lang': 'und', 'text': 'https://t.co/4QNllqZ75o', 'id': '1441201947785121794'}, {'conversation_id': '1441177680683024389', 'created_at': '2021-09-24T00:44:38.000Z', 'lang': 'en', 'text': '@SpaceXMR Maybe reality is a Rick &amp; Morty episode', 'id': '1441201877715128320'}, {'conversation_id': '1440421014291173380', 'created_at': '2021-09-23T07:27:01.000Z', 'lang': 'en', 'text': '@RenataKonkoly @FelixSchlang @KathyLueders @SpaceX @BoeingSpace I didn’t think so at the time', 'id': '1440940751718948866'}, {'conversation_id': '1440751226094686214', 'created_at': '2021-09-22T20:53:54.000Z', 'lang': 'en', 'text': '@thesheetztweetz So pointy! https://t.co/XMRQKpmy0t', 'id': '1440781421665161223'}, {'conversation_id': '1440771185231294470', 'created_at': '2021-09-22T20:50:08.000Z', 'lang': 'en', 'text': '@BillyM2k Super important for Doge fees to drop to make things like buying movie tix viable', 'id': '1440780474662543370'}, {'conversation_id': '1440608913754181634', 'created_at': '2021-09-22T20:43:05.000Z', 'lang': 'en', 'text': '@EvaFoxU @ChesterNoBS @truth_tesla Giga Berlin will help a lot', 'id': '1440778702476832778'}, {'conversation_id': '1440693417260957702', 'created_at': '2021-09-22T18:40:46.000Z', 'lang': 'en', 'text': '@SueOrigin @SciGuySpace That would break the NASA budget!', 'id': '1440747919108296708'}, {'conversation_id': '1440740197071671297', 'created_at': '2021-09-22T18:26:45.000Z', 'lang': 'en', 'text': '@PPathole @simongerman600 @waitbutwhy @SeppalaVilleEN AI used to be #1, until last year https://t.co/KSuaheBLLg', 'id': '1440744391069425666'}, {'conversation_id': '1440740197071671297', 'created_at': '2021-09-22T18:18:26.000Z', 'lang': 'en', 'text': '@simongerman600 @waitbutwhy @SeppalaVilleEN Birth rate collapse is the biggest threat to human civilization', 'id': '1440742298518577156'}, {'conversation_id': '1440714711356432392', 'created_at': '2021-09-22T17:54:22.000Z', 'lang': 'en', 'text': '@wapodavenport We always do flight readiness reviews! This argument makes no sense.', 'id': '1440736242195329028'}, {'conversation_id': '1440608913754181634', 'created_at': '2021-09-22T17:40:20.000Z', 'lang': 'en', 'text': '@EvaFoxU @ChesterNoBS @truth_tesla Logistics is underrated', 'id': '1440732712289984519'}, {'conversation_id': '1440608913754181634', 'created_at': '2021-09-22T17:27:46.000Z', 'lang': 'en', 'text': '@EvaFoxU @ChesterNoBS @truth_tesla Exactly. Giga Shanghai makes cars for export in first half of quarter, then cars for far away parts of China, then cars for nearby parts of China. \\n\\nNet result is a crazy wave of deliveries end of quarter. It is tough on our team, so we’re hoping to reduce the wave in Q4 &amp; Q1.', 'id': '1440729549239558148'}, {'conversation_id': '1440485977059827712', 'created_at': '2021-09-22T06:44:29.000Z', 'lang': 'en', 'text': '@rookisaacman @ArceneauxHayley @DrSianProctor @ChrisSembroski @inspiration4x @StJude Great view of Earth!', 'id': '1440567662258442247'}, {'conversation_id': '1440483489996959754', 'created_at': '2021-09-22T02:20:40.000Z', 'lang': 'en', 'text': '@HistoryInPics Tesla is the king of car farts!', 'id': '1440501267944513537'}, {'conversation_id': '1440419465242439681', 'created_at': '2021-09-22T01:05:45.000Z', 'lang': 'en', 'text': '@ro_ma_vive @cybrtrkguy Hopefully worldwide long-term, but insurance is a regulatory labyrinth/escape room!', 'id': '1440482413973409802'}, {'conversation_id': '1440419465242439681', 'created_at': '2021-09-22T01:01:46.000Z', 'lang': 'en', 'text': '@cybrtrkguy The regulatory process for approval to offer insurance is extremely slow &amp; complex, varying considerably by state. \\n\\nTesla is hoping to offer real-time (based on actual driving history) insurance in Texas next month.\\n\\nProbably next year before we get approval in New York.', 'id': '1440481412835016705'}, {'conversation_id': '1440416990204624900', 'created_at': '2021-09-21T20:45:46.000Z', 'lang': 'en', 'text': 'RT @DrSianProctor: The moment when me and my amazing crew, @rookisaacman, @ArceneauxHayley, @ChrisSembroski opened up the @SpaceX cupola fo…', 'id': '1440416990204624900'}, {'conversation_id': '1440281601485664267', 'created_at': '2021-09-21T17:06:09.000Z', 'lang': 'en', 'text': '@ElectricRaph @28delayslater @KounisTou Good point, we could enable visualization before control. Will enable that option hopefully next month.', 'id': '1440361722473156611'}, {'conversation_id': '1440281601485664267', 'created_at': '2021-09-21T17:01:06.000Z', 'lang': 'en', 'text': '@28delayslater @KounisTou 10.1 should solve that last cone issue', 'id': '1440360450177204230'}, {'conversation_id': '1440358962432339983', 'created_at': '2021-09-21T16:55:11.000Z', 'lang': 'en', 'text': 'RT @Tesla: Solar Roof powers Buffalo Heritage Carousel in NY\\xa0🌞 https://t.co/cxFFwmuQ2e', 'id': '1440358962432339983'}, {'conversation_id': '1440159176685088774', 'created_at': '2021-09-21T04:22:37.000Z', 'lang': 'en', 'text': '@TeslaOwnersEBay @TeslaGong @inspiration4x Definitely upgraded toilets :) We had some challenges with it this flight.', 'id': '1440169571466371073'}, {'conversation_id': '1439990574203826181', 'created_at': '2021-09-21T04:01:31.000Z', 'lang': 'en', 'text': '@carsonight Not super surprising, given that internal combustion engine cars literally have “combustion” in the name', 'id': '1440164262761021448'}, {'conversation_id': '1440159176685088774', 'created_at': '2021-09-21T03:48:20.000Z', 'lang': 'en', 'text': '@TeslaGong @inspiration4x Yeah, a little oven for heating food &amp; Starlink wifi', 'id': '1440160941505585159'}, {'conversation_id': '1440159176685088774', 'created_at': '2021-09-21T03:41:19.000Z', 'lang': 'en', 'text': 'Just met with the @Inspiration4x crew in Florida to congratulate them in person. Such great people!', 'id': '1440159176685088774'}, {'conversation_id': '1439990273346465796', 'created_at': '2021-09-20T18:19:37.000Z', 'lang': 'en', 'text': '@ray4tesla Tesla has not yet decided on a fourth Gigafactory location', 'id': '1440017820167938054'}, {'conversation_id': '1439563373256093698', 'created_at': '2021-09-20T06:36:33.000Z', 'lang': 'en', 'text': '@AustinTeslaClub To be precise, completely &amp; immediately reusable orbital rockets are the fundamental breakthrough needed to make life multiplanetary', 'id': '1439840888537194496'}, {'conversation_id': '1439828784216039424', 'created_at': '2021-09-20T06:34:07.000Z', 'lang': 'en', 'text': '@teslaownersSV @Tesla Which games did they like most?', 'id': '1439840278362329094'}, {'conversation_id': '1439804882958041088', 'created_at': '2021-09-20T04:31:53.000Z', 'lang': 'en', 'text': '@tegmark Nice work!', 'id': '1439809514308620293'}, {'conversation_id': '1439455901962801158', 'created_at': '2021-09-20T03:07:51.000Z', 'lang': 'en', 'text': '@teslaownersSV @TeslaGong @WholeMarsBlog Good', 'id': '1439788369257639939'}, {'conversation_id': '1439455901962801158', 'created_at': '2021-09-20T03:06:19.000Z', 'lang': 'en', 'text': '@TeslaGong @teslaownersSV @WholeMarsBlog No, has to be turned on by car owner', 'id': '1439787982475743241'}, {'conversation_id': '1439455901962801158', 'created_at': '2021-09-20T03:05:31.000Z', 'lang': 'und', 'text': '@Jason_Hess_ @WholeMarsBlog Yes', 'id': '1439787780180221954'}, {'conversation_id': '1439455901962801158', 'created_at': '2021-09-20T03:05:01.000Z', 'lang': 'en', 'text': '@teslaownersSV @WholeMarsBlog Tesla insurance calculator will show status in real-time &amp; tell you what actions are needed to be rated “good driver”', 'id': '1439787653394747395'}, {'conversation_id': '1439455901962801158', 'created_at': '2021-09-20T03:04:00.000Z', 'lang': 'en', 'text': '@BLKMDL3 @WholeMarsBlog 7 days after approval to log driving style', 'id': '1439787397022199812'}, {'conversation_id': '1439720509420285953', 'created_at': '2021-09-20T03:02:56.000Z', 'lang': 'en', 'text': '@starbasergv Not a tiny engine', 'id': '1439787129253597184'}, {'conversation_id': '1439455901962801158', 'created_at': '2021-09-20T03:02:02.000Z', 'lang': 'en', 'text': '@WholeMarsBlog Remarkable how few people realize this capability exists. Many think it is 5 years away! With public beta rollout in coming weeks, awareness should improve dramatically.', 'id': '1439786904443146240'}, {'conversation_id': '1439693847827820545', 'created_at': '2021-09-19T21:15:25.000Z', 'lang': 'en', 'text': '@FiveTweetTSLA @tesla_lion @archillect Seems that way', 'id': '1439699675494461440'}, {'conversation_id': '1439693847827820545', 'created_at': '2021-09-19T21:08:37.000Z', 'lang': 'en', 'text': '@archillect Looks fine. Take 2 aspirin, call me in the morning.', 'id': '1439697964369317888'}, {'conversation_id': '1439676763873976321', 'created_at': '2021-09-19T20:27:41.000Z', 'lang': 'en', 'text': '@TheMarsSociety @NASA Some amount of cooperation would be good', 'id': '1439687664547115011'}, {'conversation_id': '1439551459763314692', 'created_at': '2021-09-19T19:07:05.000Z', 'lang': 'en', 'text': '@RenataKonkoly @rhensing @johnkrausphotos Absolutely', 'id': '1439667378120499201'}, {'conversation_id': '1439551459763314692', 'created_at': '2021-09-19T19:00:07.000Z', 'lang': 'en', 'text': '@rhensing He’s still sleeping', 'id': '1439665626914635783'}, {'conversation_id': '1439458059449999364', 'created_at': '2021-09-19T18:58:51.000Z', 'lang': 'en', 'text': '@stats_feed Needs a little warming up', 'id': '1439665308101402643'}, {'conversation_id': '1439424186724851721', 'created_at': '2021-09-19T14:39:45.000Z', 'lang': 'en', 'text': '@AustinTeslaClub @Tesla @TeslaOwnersEBay @TeslaOwnersUAE @EvaFoxU @leastImAlive @teslaownersSV @gailalfa1 @live_munro @OwenSparks_ I wish there were more', 'id': '1439600100490334220'}, {'conversation_id': '1439424186724851721', 'created_at': '2021-09-19T14:38:33.000Z', 'lang': 'en', 'text': '@AustinTeslaClub @Tesla @TeslaOwnersEBay @TeslaOwnersUAE @EvaFoxU @leastImAlive @teslaownersSV @gailalfa1 @live_munro @OwenSparks_ So few products that you truly love 💕', 'id': '1439599799049801728'}, {'conversation_id': '1439408853515386880', 'created_at': '2021-09-19T02:15:27.000Z', 'lang': 'en', 'text': '@inspiration4x @ArceneauxHayley @rookisaacman @DrSianProctor @ChrisSembroski @StJude Count me in for $50M', 'id': '1439412791815950336'}, {'conversation_id': '1439366880310046721', 'created_at': '2021-09-18T23:13:01.000Z', 'lang': 'en', 'text': 'Congratulations @Inspiration4x!!!', 'id': '1439366880310046721'}, {'conversation_id': '1439366720079204357', 'created_at': '2021-09-18T23:12:22.000Z', 'lang': 'en', 'text': 'RT @SpaceX: Splashdown! Welcome back to planet Earth, @Inspiration4x! https://t.co/94yLjMBqWt', 'id': '1439366720079204357'}, {'conversation_id': '1439350960527134722', 'created_at': '2021-09-18T22:16:22.000Z', 'lang': 'en', 'text': '@OwenSparks_ @ChrisSembroski One of my favorite movies', 'id': '1439352625573605378'}, {'conversation_id': '1439289629983879180', 'created_at': '2021-09-18T21:54:27.000Z', 'lang': 'en', 'text': '@TeslaGong @BryceSpaceTech Yes\\n\\nNo, but it will get refilled &amp; maybe cargo transfer', 'id': '1439347109099184138'}, {'conversation_id': '1439289629983879180', 'created_at': '2021-09-18T21:43:12.000Z', 'lang': 'en', 'text': '@enn_nafnlaus @BryceSpaceTech Making life multiplanetary is an extremely hard, but not impossible, problem', 'id': '1439344277063192581'}, {'conversation_id': '1439343752460574726', 'created_at': '2021-09-18T21:41:06.000Z', 'lang': 'en', 'text': 'RT @SpaceX: Dragon has entered its last orbit before reentry and splashdown → https://t.co/bJFjLCzWdK https://t.co/rAeaXJLLIb', 'id': '1439343752460574726'}, {'conversation_id': '1439289629983879180', 'created_at': '2021-09-18T19:21:57.000Z', 'lang': 'en', 'text': '@BryceSpaceTech Still basically nothing compared to the orbital mass flux needed for a base on moon or Mars', 'id': '1439308731913748488'}, {'conversation_id': '1439303626565038087', 'created_at': '2021-09-18T19:01:40.000Z', 'lang': 'ro', 'text': 'RT @SpaceX: Orbital moonrise https://t.co/vrx8Jzeu1t', 'id': '1439303626565038087'}, {'conversation_id': '1438837949349646336', 'created_at': '2021-09-18T19:01:05.000Z', 'lang': 'en', 'text': '@kittynouveau Probably will trap a Tesla with the production Autopilot build, but won’t work with FSD. Using a ring of cones would stop FSD though.', 'id': '1439303480330571780'}, {'conversation_id': '1439188261419855872', 'created_at': '2021-09-18T13:51:56.000Z', 'lang': 'en', 'text': '@NevanRead @A11electric It will be there', 'id': '1439225680693186571'}, {'conversation_id': '1414203506186100736', 'created_at': '2021-09-18T13:48:32.000Z', 'lang': 'en', 'text': '@vincent13031925 This engine needs to be 10X lower cost. Order of magnitude change is good reason for a new name. \\n\\nWhat really matters is not yet another “advanced” rocket engine, as there are many such devices, but there has never been a cheap (&lt;$1000/Ton-force) rocket engine. Not even close', 'id': '1439224823549411329'}, {'conversation_id': '1439167494107787265', 'created_at': '2021-09-18T13:34:30.000Z', 'lang': 'en', 'text': '@slashdot Sigh', 'id': '1439221294738903040'}, {'conversation_id': '1414203506186100736', 'created_at': '2021-09-18T12:38:20.000Z', 'lang': 'en', 'text': '@SamTwits @Erdayastronaut @PPathole @vincent13031925 Long chain hydrocarbons, like kerosene, have excellent volumetric energy density, but what you really want for rockets is best way to bind hydrogen, which is CH4. \\n\\nAlso, easy to make &amp; store CH4+O2 from CO2+H2O, which are abundant on Mars.', 'id': '1439207158588088320'}, {'conversation_id': '1439056137572085761', 'created_at': '2021-09-18T12:26:46.000Z', 'lang': 'und', 'text': '@SpaceX ♥️ 🌍 🌎 🌏 ♥️', 'id': '1439204246382125059'}, {'conversation_id': '1414203506186100736', 'created_at': '2021-09-18T12:14:57.000Z', 'lang': 'en', 'text': '@Erdayastronaut @PPathole @vincent13031925 Fully reusable rockets want high T/W to minimize $/ton to orbit, because propellant cost actually matters', 'id': '1439201272503144451'}, {'conversation_id': '1439167980634402824', 'created_at': '2021-09-18T12:00:59.000Z', 'lang': 'en', 'text': '@WholeMarsBlog Automatically drive to most obvious location unless occupant says otherwise', 'id': '1439197760478134273'}, {'conversation_id': '1439180414757875714', 'created_at': '2021-09-18T11:47:37.000Z', 'lang': 'en', 'text': '@WatchersTank @SpaceX With that, Ship is basically begging for an extra 3 engines', 'id': '1439194394649837568'}, {'conversation_id': '1439180414757875714', 'created_at': '2021-09-18T11:46:33.000Z', 'lang': 'und', 'text': '@WatchersTank @SpaceX 33', 'id': '1439194125908299777'}, {'conversation_id': '1439083556626567169', 'created_at': '2021-09-18T08:26:30.000Z', 'lang': 'en', 'text': '@Aristot21520213 @ray4tesla Exactly', 'id': '1439143782478450692'}, {'conversation_id': '1439078509872234497', 'created_at': '2021-09-18T07:01:59.000Z', 'lang': 'en', 'text': '@ignaciobelieres @oza_shiv @lrocket “Ignition!”', 'id': '1439122512856731648'}, {'conversation_id': '1439078509872234497', 'created_at': '2021-09-18T06:54:13.000Z', 'lang': 'en', 'text': '@oza_shiv @lrocket Throw in some hydrogen &amp; lithium for a real party', 'id': '1439120557287563265'}, {'conversation_id': '1439078509872234497', 'created_at': '2021-09-18T06:52:58.000Z', 'lang': 'und', 'text': '@oza_shiv @lrocket 🔥', 'id': '1439120245831131136'}, {'conversation_id': '1439078509872234497', 'created_at': '2021-09-18T06:11:05.000Z', 'lang': 'en', 'text': '@lrocket What propellant?', 'id': '1439109703162814468'}, {'conversation_id': '1439090465698041861', 'created_at': '2021-09-18T04:54:38.000Z', 'lang': 'en', 'text': 'Moving at ~23 times speed of sound, circling Earth every ~90 minutes https://t.co/AncsjFpirC', 'id': '1439090465698041861'}, {'conversation_id': '1439037002951708677', 'created_at': '2021-09-18T01:43:23.000Z', 'lang': 'en', 'text': '@hiromichimizuno Ironically, yes at this time. FSD beta system at times can seem so good that vigilance isn’t necessary, but it is. Also, any beta user who isn’t super careful will get booted. \\n\\n2000 beta users operating for almost a year with no accidents. Needs to stay that way.', 'id': '1439042334155497474'}, {'conversation_id': '1438997247903952898', 'created_at': '2021-09-18T01:16:17.000Z', 'lang': 'en', 'text': '@Erdayastronaut @inspiration4x Yeah. We’d use our Ka parabolics or laser links for Dragon, Starship or other spacecraft as soon as they got above cloud level.', 'id': '1439035515517509636'}, {'conversation_id': '1438997247903952898', 'created_at': '2021-09-17T23:17:36.000Z', 'lang': 'en', 'text': '@inspiration4x Sorry it was cold! Dragon will have a food warmer &amp; free wifi next time :)', 'id': '1439005647610290183'}, {'conversation_id': '1438982407487643651', 'created_at': '2021-09-17T21:45:15.000Z', 'lang': 'en', 'text': 'RT @SpaceX: The @inspiration4x crew is set to return to Earth on Saturday, September 18 with a targeted splashdown at 7:06 p.m. EDT in the…', 'id': '1438982407487643651'}, {'conversation_id': '1438982388491689985', 'created_at': '2021-09-17T21:45:11.000Z', 'lang': 'en', 'text': 'RT @inspiration4x: Our crew chatted from space with the patients of @StJude! Watch the event here: https://t.co/LP6ZHOO8cq\\n\\nSupport St. Jud…', 'id': '1438982388491689985'}, {'conversation_id': '1438686351197622277', 'created_at': '2021-09-17T21:36:21.000Z', 'lang': 'en', 'text': '@TeslaNY Jay is right', 'id': '1438980165942620166'}, {'conversation_id': '1438928760846290948', 'created_at': '2021-09-17T18:12:05.000Z', 'lang': 'en', 'text': 'Please add your voice to the public comments. Support is greatly appreciated! \\n\\nHumanity’s future on the moon, Mars &amp; beyond depends upon it.\\n\\nThanks, \\nElon https://t.co/5K6Wda57EP', 'id': '1438928760846290948'}, {'conversation_id': '1438919113859010562', 'created_at': '2021-09-17T17:33:45.000Z', 'lang': 'en', 'text': 'RT @SpaceX: The @Inspiration4x crew will share a live on-orbit update about their multi-day journey aboard the Dragon spacecraft at ~5:00 p…', 'id': '1438919113859010562'}, {'conversation_id': '1416416608990294017', 'created_at': '2021-09-17T08:21:58.000Z', 'lang': 'en', 'text': '@TrungTPhan The lesson from “tortoise &amp; hare” is not that tortoises are faster, but rather that hares should not be complacent', 'id': '1438780252474560513'}, {'conversation_id': '1438684370785783808', 'created_at': '2021-09-17T07:48:30.000Z', 'lang': 'en', 'text': '@cleantechnica September will be interesting', 'id': '1438771833516564482'}, {'conversation_id': '1438747500010168322', 'created_at': '2021-09-17T06:34:35.000Z', 'lang': 'en', 'text': '@StianWalgermo Technology probably ready in a few months, thereafter limited by regulatory approval', 'id': '1438753228234047490'}, {'conversation_id': '1438747500010168322', 'created_at': '2021-09-17T06:25:59.000Z', 'lang': 'en', 'text': '@IvanEscobosa Beta button will request permission to assess driving behavior using Tesla insurance calculator. If driving behavior is good for 7 days, beta access will be granted.', 'id': '1438751064765906945'}, {'conversation_id': '1438747500010168322', 'created_at': '2021-09-17T06:15:07.000Z', 'lang': 'und', 'text': '@Gf4Tesla Yes', 'id': '1438748333250592771'}, {'conversation_id': '1438747500010168322', 'created_at': '2021-09-17T06:14:03.000Z', 'lang': 'en', 'text': '@OvershieId Next month', 'id': '1438748063527575555'}], 'meta': {'oldest_id': '1438748063527575555', 'newest_id': '1442197732882632707', 'result_count': 100, 'next_token': '7140dibdnow9c7btw3z21lcl2tdmpb2i8vjo0mel6lx6d'}}\n"
     ]
    }
   ],
   "source": [
    "response = send_request(headers)\n",
    "print(response)"
   ]
  },
  {
   "cell_type": "code",
   "execution_count": 46,
   "id": "5692b956",
   "metadata": {},
   "outputs": [],
   "source": [
    "def make_data_frame(response):\n",
    "    return pd.DataFrame(response['data'])"
   ]
  },
  {
   "cell_type": "code",
   "execution_count": 47,
   "id": "79a2a3f0",
   "metadata": {},
   "outputs": [
    {
     "data": {
      "text/html": [
       "<div>\n",
       "<style scoped>\n",
       "    .dataframe tbody tr th:only-of-type {\n",
       "        vertical-align: middle;\n",
       "    }\n",
       "\n",
       "    .dataframe tbody tr th {\n",
       "        vertical-align: top;\n",
       "    }\n",
       "\n",
       "    .dataframe thead th {\n",
       "        text-align: right;\n",
       "    }\n",
       "</style>\n",
       "<table border=\"1\" class=\"dataframe\">\n",
       "  <thead>\n",
       "    <tr style=\"text-align: right;\">\n",
       "      <th></th>\n",
       "      <th>conversation_id</th>\n",
       "      <th>created_at</th>\n",
       "      <th>lang</th>\n",
       "      <th>text</th>\n",
       "      <th>id</th>\n",
       "    </tr>\n",
       "  </thead>\n",
       "  <tbody>\n",
       "    <tr>\n",
       "      <th>0</th>\n",
       "      <td>1442142105132953600</td>\n",
       "      <td>2021-09-26T18:41:48.000Z</td>\n",
       "      <td>en</td>\n",
       "      <td>@wadeanderson Noted. You should be able to pre...</td>\n",
       "      <td>1442197732882632707</td>\n",
       "    </tr>\n",
       "    <tr>\n",
       "      <th>1</th>\n",
       "      <td>1442160267283075074</td>\n",
       "      <td>2021-09-26T18:39:25.000Z</td>\n",
       "      <td>und</td>\n",
       "      <td>@coffeetabletsla @kimpaquette Ok</td>\n",
       "      <td>1442197132103061508</td>\n",
       "    </tr>\n",
       "    <tr>\n",
       "      <th>2</th>\n",
       "      <td>1442160267283075074</td>\n",
       "      <td>2021-09-26T18:30:03.000Z</td>\n",
       "      <td>en</td>\n",
       "      <td>@kimpaquette A helpful case to consider, as th...</td>\n",
       "      <td>1442194774501462017</td>\n",
       "    </tr>\n",
       "    <tr>\n",
       "      <th>3</th>\n",
       "      <td>1442058753700810757</td>\n",
       "      <td>2021-09-26T09:31:38.000Z</td>\n",
       "      <td>en</td>\n",
       "      <td>@pcgamer True</td>\n",
       "      <td>1442059275157843971</td>\n",
       "    </tr>\n",
       "    <tr>\n",
       "      <th>4</th>\n",
       "      <td>1441855697973620736</td>\n",
       "      <td>2021-09-26T08:47:22.000Z</td>\n",
       "      <td>en</td>\n",
       "      <td>@bluemoondance74 @NASASpaceflight @SpaceX “Com...</td>\n",
       "      <td>1442048135434539009</td>\n",
       "    </tr>\n",
       "    <tr>\n",
       "      <th>...</th>\n",
       "      <td>...</td>\n",
       "      <td>...</td>\n",
       "      <td>...</td>\n",
       "      <td>...</td>\n",
       "      <td>...</td>\n",
       "    </tr>\n",
       "    <tr>\n",
       "      <th>95</th>\n",
       "      <td>1438684370785783808</td>\n",
       "      <td>2021-09-17T07:48:30.000Z</td>\n",
       "      <td>en</td>\n",
       "      <td>@cleantechnica September will be interesting</td>\n",
       "      <td>1438771833516564482</td>\n",
       "    </tr>\n",
       "    <tr>\n",
       "      <th>96</th>\n",
       "      <td>1438747500010168322</td>\n",
       "      <td>2021-09-17T06:34:35.000Z</td>\n",
       "      <td>en</td>\n",
       "      <td>@StianWalgermo Technology probably ready in a ...</td>\n",
       "      <td>1438753228234047490</td>\n",
       "    </tr>\n",
       "    <tr>\n",
       "      <th>97</th>\n",
       "      <td>1438747500010168322</td>\n",
       "      <td>2021-09-17T06:25:59.000Z</td>\n",
       "      <td>en</td>\n",
       "      <td>@IvanEscobosa Beta button will request permiss...</td>\n",
       "      <td>1438751064765906945</td>\n",
       "    </tr>\n",
       "    <tr>\n",
       "      <th>98</th>\n",
       "      <td>1438747500010168322</td>\n",
       "      <td>2021-09-17T06:15:07.000Z</td>\n",
       "      <td>und</td>\n",
       "      <td>@Gf4Tesla Yes</td>\n",
       "      <td>1438748333250592771</td>\n",
       "    </tr>\n",
       "    <tr>\n",
       "      <th>99</th>\n",
       "      <td>1438747500010168322</td>\n",
       "      <td>2021-09-17T06:14:03.000Z</td>\n",
       "      <td>en</td>\n",
       "      <td>@OvershieId Next month</td>\n",
       "      <td>1438748063527575555</td>\n",
       "    </tr>\n",
       "  </tbody>\n",
       "</table>\n",
       "<p>100 rows × 5 columns</p>\n",
       "</div>"
      ],
      "text/plain": [
       "        conversation_id                created_at lang  \\\n",
       "0   1442142105132953600  2021-09-26T18:41:48.000Z   en   \n",
       "1   1442160267283075074  2021-09-26T18:39:25.000Z  und   \n",
       "2   1442160267283075074  2021-09-26T18:30:03.000Z   en   \n",
       "3   1442058753700810757  2021-09-26T09:31:38.000Z   en   \n",
       "4   1441855697973620736  2021-09-26T08:47:22.000Z   en   \n",
       "..                  ...                       ...  ...   \n",
       "95  1438684370785783808  2021-09-17T07:48:30.000Z   en   \n",
       "96  1438747500010168322  2021-09-17T06:34:35.000Z   en   \n",
       "97  1438747500010168322  2021-09-17T06:25:59.000Z   en   \n",
       "98  1438747500010168322  2021-09-17T06:15:07.000Z  und   \n",
       "99  1438747500010168322  2021-09-17T06:14:03.000Z   en   \n",
       "\n",
       "                                                 text                   id  \n",
       "0   @wadeanderson Noted. You should be able to pre...  1442197732882632707  \n",
       "1                    @coffeetabletsla @kimpaquette Ok  1442197132103061508  \n",
       "2   @kimpaquette A helpful case to consider, as th...  1442194774501462017  \n",
       "3                                       @pcgamer True  1442059275157843971  \n",
       "4   @bluemoondance74 @NASASpaceflight @SpaceX “Com...  1442048135434539009  \n",
       "..                                                ...                  ...  \n",
       "95       @cleantechnica September will be interesting  1438771833516564482  \n",
       "96  @StianWalgermo Technology probably ready in a ...  1438753228234047490  \n",
       "97  @IvanEscobosa Beta button will request permiss...  1438751064765906945  \n",
       "98                                      @Gf4Tesla Yes  1438748333250592771  \n",
       "99                             @OvershieId Next month  1438748063527575555  \n",
       "\n",
       "[100 rows x 5 columns]"
      ]
     },
     "execution_count": 47,
     "metadata": {},
     "output_type": "execute_result"
    }
   ],
   "source": [
    "data_frame = make_data_frame(response)\n",
    "data_frame"
   ]
  },
  {
   "cell_type": "code",
   "execution_count": 48,
   "id": "4f16ef59",
   "metadata": {},
   "outputs": [],
   "source": [
    "data_frame.to_csv('tweets.csv')"
   ]
  },
  {
   "cell_type": "code",
   "execution_count": null,
   "id": "10ba89bb",
   "metadata": {},
   "outputs": [],
   "source": []
  }
 ],
 "metadata": {
  "kernelspec": {
   "display_name": "Python 3 (ipykernel)",
   "language": "python",
   "name": "python3"
  },
  "language_info": {
   "codemirror_mode": {
    "name": "ipython",
    "version": 3
   },
   "file_extension": ".py",
   "mimetype": "text/x-python",
   "name": "python",
   "nbconvert_exporter": "python",
   "pygments_lexer": "ipython3",
   "version": "3.9.7"
  }
 },
 "nbformat": 4,
 "nbformat_minor": 5
}
