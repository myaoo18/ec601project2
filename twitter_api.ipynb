{
 "cells": [
  {
   "cell_type": "markdown",
   "id": "f845b00b",
   "metadata": {},
   "source": [
    "Step 1"
   ]
  },
  {
   "cell_type": "code",
   "execution_count": 6,
   "id": "3993f9b1",
   "metadata": {},
   "outputs": [],
   "source": [
    "import pandas as pd\n",
    "import requests\n",
    "import os"
   ]
  },
  {
   "cell_type": "markdown",
   "id": "51f7c3a2",
   "metadata": {},
   "source": [
    "Step 2"
   ]
  },
  {
   "cell_type": "code",
   "execution_count": 7,
   "id": "c3b1ffd0",
   "metadata": {},
   "outputs": [],
   "source": [
    "def connect_to_api():\n",
    "    bearer_token = os.environ.get('BEARER_TOKEN')\n",
    "    return {\"Authorization\": \"Bearer {}\".format(bearer_token)}"
   ]
  },
  {
   "cell_type": "code",
   "execution_count": 8,
   "id": "d8ae6854",
   "metadata": {},
   "outputs": [],
   "source": [
    "headers = connect_to_api();"
   ]
  },
  {
   "cell_type": "markdown",
   "id": "cc363431",
   "metadata": {},
   "source": [
    "Step 3"
   ]
  },
  {
   "cell_type": "code",
   "execution_count": 34,
   "id": "40f519cc",
   "metadata": {},
   "outputs": [],
   "source": [
    "def send_request(headers):\n",
    "    url = \"https://api.twitter.com/2/users/44196397/tweets\"\n",
    "    params = \"max_results=10&tweet.fields=lang,conversation_id,created_at\"\n",
    "    return requests.request(\"GET\", url, params=params, headers=headers).json()"
   ]
  },
  {
   "cell_type": "code",
   "execution_count": 35,
   "id": "8303bc46",
   "metadata": {},
   "outputs": [
    {
     "name": "stdout",
     "output_type": "stream",
     "text": [
      "{'data': [{'created_at': '2021-09-26T18:41:48.000Z', 'text': '@wadeanderson Noted. You should be able to press mic button &amp; say “bug report …”', 'conversation_id': '1442142105132953600', 'id': '1442197732882632707', 'lang': 'en'}, {'created_at': '2021-09-26T18:39:25.000Z', 'text': '@coffeetabletsla @kimpaquette Ok', 'conversation_id': '1442160267283075074', 'id': '1442197132103061508', 'lang': 'und'}, {'created_at': '2021-09-26T18:30:03.000Z', 'text': '@kimpaquette A helpful case to consider, as the roads intersect at unusual angles', 'conversation_id': '1442160267283075074', 'id': '1442194774501462017', 'lang': 'en'}, {'created_at': '2021-09-26T09:31:38.000Z', 'text': '@pcgamer True', 'conversation_id': '1442058753700810757', 'id': '1442059275157843971', 'lang': 'en'}, {'created_at': '2021-09-26T08:47:22.000Z', 'text': '@bluemoondance74 @NASASpaceflight @SpaceX “Comes in discreet packaging”', 'conversation_id': '1441855697973620736', 'id': '1442048135434539009', 'lang': 'en'}, {'created_at': '2021-09-26T08:38:51.000Z', 'text': '@cnunezimages @SpaceX Well ya see we need to reach around the rocket to uhh …', 'conversation_id': '1441926415201579011', 'id': '1442045993684324352', 'lang': 'en'}, {'created_at': '2021-09-26T00:06:35.000Z', 'text': '@omespino 🤣', 'conversation_id': '1441527389419311104', 'id': '1441917078894751746', 'lang': 'und'}, {'created_at': '2021-09-25T20:54:10.000Z', 'text': '@SawyerMerritt @Tesla Absolutely! Tesla team rocks 💕', 'conversation_id': '1441801120406454272', 'id': '1441868653578711040', 'lang': 'en'}, {'created_at': '2021-09-25T19:47:33.000Z', 'text': '@Sushihunter2 @pitt_geoff @rajz06 @Tesla @Everman We use no cobalt at all in most of our cars &amp; tiny amounts in others (going to zero soon), whereas phones &amp; laptops primarily use cobalt', 'conversation_id': '1441569570825801729', 'id': '1441851891000889350', 'lang': 'en'}, {'created_at': '2021-09-25T19:44:54.000Z', 'text': '@RenataKonkoly @Erdayastronaut And booster used to be 70m, but this required an awkward half barrel width of steel, so now it’s 69m', 'conversation_id': '1441843442099769352', 'id': '1441851222537879556', 'lang': 'en'}], 'meta': {'oldest_id': '1441851222537879556', 'newest_id': '1442197732882632707', 'result_count': 10, 'next_token': '7140dibdnow9c7btw3z2gc1qsg5ncqbr0xsd3bxghpx6e'}}\n"
     ]
    }
   ],
   "source": [
    "response = send_request(headers)\n",
    "print(response)"
   ]
  },
  {
   "cell_type": "code",
   "execution_count": 36,
   "id": "b9d0d9d9",
   "metadata": {},
   "outputs": [],
   "source": [
    "def make_data_frame(response):\n",
    "    return pd.DataFrame(response['data'])"
   ]
  },
  {
   "cell_type": "code",
   "execution_count": 37,
   "id": "3882733e",
   "metadata": {},
   "outputs": [
    {
     "data": {
      "text/html": [
       "<div>\n",
       "<style scoped>\n",
       "    .dataframe tbody tr th:only-of-type {\n",
       "        vertical-align: middle;\n",
       "    }\n",
       "\n",
       "    .dataframe tbody tr th {\n",
       "        vertical-align: top;\n",
       "    }\n",
       "\n",
       "    .dataframe thead th {\n",
       "        text-align: right;\n",
       "    }\n",
       "</style>\n",
       "<table border=\"1\" class=\"dataframe\">\n",
       "  <thead>\n",
       "    <tr style=\"text-align: right;\">\n",
       "      <th></th>\n",
       "      <th>created_at</th>\n",
       "      <th>text</th>\n",
       "      <th>conversation_id</th>\n",
       "      <th>id</th>\n",
       "      <th>lang</th>\n",
       "    </tr>\n",
       "  </thead>\n",
       "  <tbody>\n",
       "    <tr>\n",
       "      <th>0</th>\n",
       "      <td>2021-09-26T18:41:48.000Z</td>\n",
       "      <td>@wadeanderson Noted. You should be able to pre...</td>\n",
       "      <td>1442142105132953600</td>\n",
       "      <td>1442197732882632707</td>\n",
       "      <td>en</td>\n",
       "    </tr>\n",
       "    <tr>\n",
       "      <th>1</th>\n",
       "      <td>2021-09-26T18:39:25.000Z</td>\n",
       "      <td>@coffeetabletsla @kimpaquette Ok</td>\n",
       "      <td>1442160267283075074</td>\n",
       "      <td>1442197132103061508</td>\n",
       "      <td>und</td>\n",
       "    </tr>\n",
       "    <tr>\n",
       "      <th>2</th>\n",
       "      <td>2021-09-26T18:30:03.000Z</td>\n",
       "      <td>@kimpaquette A helpful case to consider, as th...</td>\n",
       "      <td>1442160267283075074</td>\n",
       "      <td>1442194774501462017</td>\n",
       "      <td>en</td>\n",
       "    </tr>\n",
       "    <tr>\n",
       "      <th>3</th>\n",
       "      <td>2021-09-26T09:31:38.000Z</td>\n",
       "      <td>@pcgamer True</td>\n",
       "      <td>1442058753700810757</td>\n",
       "      <td>1442059275157843971</td>\n",
       "      <td>en</td>\n",
       "    </tr>\n",
       "    <tr>\n",
       "      <th>4</th>\n",
       "      <td>2021-09-26T08:47:22.000Z</td>\n",
       "      <td>@bluemoondance74 @NASASpaceflight @SpaceX “Com...</td>\n",
       "      <td>1441855697973620736</td>\n",
       "      <td>1442048135434539009</td>\n",
       "      <td>en</td>\n",
       "    </tr>\n",
       "    <tr>\n",
       "      <th>5</th>\n",
       "      <td>2021-09-26T08:38:51.000Z</td>\n",
       "      <td>@cnunezimages @SpaceX Well ya see we need to r...</td>\n",
       "      <td>1441926415201579011</td>\n",
       "      <td>1442045993684324352</td>\n",
       "      <td>en</td>\n",
       "    </tr>\n",
       "    <tr>\n",
       "      <th>6</th>\n",
       "      <td>2021-09-26T00:06:35.000Z</td>\n",
       "      <td>@omespino 🤣</td>\n",
       "      <td>1441527389419311104</td>\n",
       "      <td>1441917078894751746</td>\n",
       "      <td>und</td>\n",
       "    </tr>\n",
       "    <tr>\n",
       "      <th>7</th>\n",
       "      <td>2021-09-25T20:54:10.000Z</td>\n",
       "      <td>@SawyerMerritt @Tesla Absolutely! Tesla team r...</td>\n",
       "      <td>1441801120406454272</td>\n",
       "      <td>1441868653578711040</td>\n",
       "      <td>en</td>\n",
       "    </tr>\n",
       "    <tr>\n",
       "      <th>8</th>\n",
       "      <td>2021-09-25T19:47:33.000Z</td>\n",
       "      <td>@Sushihunter2 @pitt_geoff @rajz06 @Tesla @Ever...</td>\n",
       "      <td>1441569570825801729</td>\n",
       "      <td>1441851891000889350</td>\n",
       "      <td>en</td>\n",
       "    </tr>\n",
       "    <tr>\n",
       "      <th>9</th>\n",
       "      <td>2021-09-25T19:44:54.000Z</td>\n",
       "      <td>@RenataKonkoly @Erdayastronaut And booster use...</td>\n",
       "      <td>1441843442099769352</td>\n",
       "      <td>1441851222537879556</td>\n",
       "      <td>en</td>\n",
       "    </tr>\n",
       "  </tbody>\n",
       "</table>\n",
       "</div>"
      ],
      "text/plain": [
       "                 created_at  \\\n",
       "0  2021-09-26T18:41:48.000Z   \n",
       "1  2021-09-26T18:39:25.000Z   \n",
       "2  2021-09-26T18:30:03.000Z   \n",
       "3  2021-09-26T09:31:38.000Z   \n",
       "4  2021-09-26T08:47:22.000Z   \n",
       "5  2021-09-26T08:38:51.000Z   \n",
       "6  2021-09-26T00:06:35.000Z   \n",
       "7  2021-09-25T20:54:10.000Z   \n",
       "8  2021-09-25T19:47:33.000Z   \n",
       "9  2021-09-25T19:44:54.000Z   \n",
       "\n",
       "                                                text      conversation_id  \\\n",
       "0  @wadeanderson Noted. You should be able to pre...  1442142105132953600   \n",
       "1                   @coffeetabletsla @kimpaquette Ok  1442160267283075074   \n",
       "2  @kimpaquette A helpful case to consider, as th...  1442160267283075074   \n",
       "3                                      @pcgamer True  1442058753700810757   \n",
       "4  @bluemoondance74 @NASASpaceflight @SpaceX “Com...  1441855697973620736   \n",
       "5  @cnunezimages @SpaceX Well ya see we need to r...  1441926415201579011   \n",
       "6                                        @omespino 🤣  1441527389419311104   \n",
       "7  @SawyerMerritt @Tesla Absolutely! Tesla team r...  1441801120406454272   \n",
       "8  @Sushihunter2 @pitt_geoff @rajz06 @Tesla @Ever...  1441569570825801729   \n",
       "9  @RenataKonkoly @Erdayastronaut And booster use...  1441843442099769352   \n",
       "\n",
       "                    id lang  \n",
       "0  1442197732882632707   en  \n",
       "1  1442197132103061508  und  \n",
       "2  1442194774501462017   en  \n",
       "3  1442059275157843971   en  \n",
       "4  1442048135434539009   en  \n",
       "5  1442045993684324352   en  \n",
       "6  1441917078894751746  und  \n",
       "7  1441868653578711040   en  \n",
       "8  1441851891000889350   en  \n",
       "9  1441851222537879556   en  "
      ]
     },
     "execution_count": 37,
     "metadata": {},
     "output_type": "execute_result"
    }
   ],
   "source": [
    "data_frame = make_data_frame(response)\n",
    "data_frame"
   ]
  },
  {
   "cell_type": "code",
   "execution_count": 38,
   "id": "5d8d6dff",
   "metadata": {},
   "outputs": [],
   "source": [
    "data_frame.to_csv('tweets.csv')"
   ]
  },
  {
   "cell_type": "code",
   "execution_count": null,
   "id": "a59af639",
   "metadata": {},
   "outputs": [],
   "source": []
  }
 ],
 "metadata": {
  "kernelspec": {
   "display_name": "Python 3 (ipykernel)",
   "language": "python",
   "name": "python3"
  },
  "language_info": {
   "codemirror_mode": {
    "name": "ipython",
    "version": 3
   },
   "file_extension": ".py",
   "mimetype": "text/x-python",
   "name": "python",
   "nbconvert_exporter": "python",
   "pygments_lexer": "ipython3",
   "version": "3.9.7"
  }
 },
 "nbformat": 4,
 "nbformat_minor": 5
}
